{
  "nbformat": 4,
  "nbformat_minor": 0,
  "metadata": {
    "colab": {
      "name": "Project_Machine_Learning.ipynb",
      "provenance": [],
      "collapsed_sections": []
    },
    "kernelspec": {
      "name": "python3",
      "display_name": "Python 3"
    },
    "language_info": {
      "name": "python"
    }
  },
  "cells": [
    {
      "cell_type": "code",
      "metadata": {
        "id": "069V9vxS-IAz"
      },
      "source": [
        "from sklearn.linear_model import LinearRegression\n",
        "from sklearn.model_selection import train_test_split\n",
        "from sklearn.preprocessing import MinMaxScaler\n",
        "from sklearn.metrics import mean_squared_error\n",
        "import pandas as pd"
      ],
      "execution_count": 1,
      "outputs": []
    },
    {
      "cell_type": "markdown",
      "metadata": {
        "id": "vEy1PWXiCn3j"
      },
      "source": [
        "Disini kami menggunakan dataset harga bitcoin dalam bentuk USD ($) dari tanggal 1 maret sampai 30 april dengan variabel independent nya adalah\n",
        "\n",
        "1. Date\n",
        "2. High (harga tertinggi pada hari itu)\n",
        "3. Low (harga terendah pada hari itu)\n",
        "4. Volume (total perdagangan pada hari itu)\n",
        "5. Weekend (hari libur biasa / nasional)\n",
        "6. Good News (berita baik mengenai harga bitcoin)\n",
        "7. Bad News (berita buruk mengenai harga bitcoin)\n",
        "8. Price (harga dari bitcoin)\n",
        "\n",
        "dan terdapat 2 variabel catatan saja, yaitu\n",
        "\n",
        "1. Link Good News\n",
        "2. Link Bad News"
      ]
    },
    {
      "cell_type": "code",
      "metadata": {
        "colab": {
          "base_uri": "https://localhost:8080/",
          "height": 419
        },
        "id": "FdvsHbmz-bnV",
        "outputId": "4d62f158-4c5f-4c7c-e2b3-d162b6c47fb3"
      },
      "source": [
        "dataset = pd.read_csv(\"dataset project.csv\")\n",
        "\n",
        "dataset"
      ],
      "execution_count": 2,
      "outputs": [
        {
          "output_type": "execute_result",
          "data": {
            "text/html": [
              "<div>\n",
              "<style scoped>\n",
              "    .dataframe tbody tr th:only-of-type {\n",
              "        vertical-align: middle;\n",
              "    }\n",
              "\n",
              "    .dataframe tbody tr th {\n",
              "        vertical-align: top;\n",
              "    }\n",
              "\n",
              "    .dataframe thead th {\n",
              "        text-align: right;\n",
              "    }\n",
              "</style>\n",
              "<table border=\"1\" class=\"dataframe\">\n",
              "  <thead>\n",
              "    <tr style=\"text-align: right;\">\n",
              "      <th></th>\n",
              "      <th>Date</th>\n",
              "      <th>High</th>\n",
              "      <th>Low</th>\n",
              "      <th>Volume</th>\n",
              "      <th>Weekend</th>\n",
              "      <th>Good News</th>\n",
              "      <th>Link Good News</th>\n",
              "      <th>Bad News</th>\n",
              "      <th>Link Bad News</th>\n",
              "      <th>Price</th>\n",
              "    </tr>\n",
              "  </thead>\n",
              "  <tbody>\n",
              "    <tr>\n",
              "      <th>0</th>\n",
              "      <td>3/1/2021 0:00</td>\n",
              "      <td>49784.01563</td>\n",
              "      <td>45115.09375</td>\n",
              "      <td>53891300112</td>\n",
              "      <td>0</td>\n",
              "      <td>0</td>\n",
              "      <td>NaN</td>\n",
              "      <td>0</td>\n",
              "      <td>NaN</td>\n",
              "      <td>49631.24219</td>\n",
              "    </tr>\n",
              "    <tr>\n",
              "      <th>1</th>\n",
              "      <td>3/2/2021 0:00</td>\n",
              "      <td>50127.51172</td>\n",
              "      <td>47228.84375</td>\n",
              "      <td>47530897720</td>\n",
              "      <td>0</td>\n",
              "      <td>0</td>\n",
              "      <td>NaN</td>\n",
              "      <td>0</td>\n",
              "      <td>NaN</td>\n",
              "      <td>48378.98828</td>\n",
              "    </tr>\n",
              "    <tr>\n",
              "      <th>2</th>\n",
              "      <td>3/3/2021 0:00</td>\n",
              "      <td>52535.13672</td>\n",
              "      <td>48274.32031</td>\n",
              "      <td>53220811975</td>\n",
              "      <td>0</td>\n",
              "      <td>0</td>\n",
              "      <td>NaN</td>\n",
              "      <td>0</td>\n",
              "      <td>NaN</td>\n",
              "      <td>50538.24219</td>\n",
              "    </tr>\n",
              "    <tr>\n",
              "      <th>3</th>\n",
              "      <td>3/4/2021 0:00</td>\n",
              "      <td>51735.08984</td>\n",
              "      <td>47656.92969</td>\n",
              "      <td>52343816680</td>\n",
              "      <td>0</td>\n",
              "      <td>0</td>\n",
              "      <td>NaN</td>\n",
              "      <td>0</td>\n",
              "      <td>NaN</td>\n",
              "      <td>48561.16797</td>\n",
              "    </tr>\n",
              "    <tr>\n",
              "      <th>4</th>\n",
              "      <td>3/5/2021 0:00</td>\n",
              "      <td>49396.42969</td>\n",
              "      <td>46542.51563</td>\n",
              "      <td>48625928883</td>\n",
              "      <td>0</td>\n",
              "      <td>0</td>\n",
              "      <td>NaN</td>\n",
              "      <td>0</td>\n",
              "      <td>NaN</td>\n",
              "      <td>48927.30469</td>\n",
              "    </tr>\n",
              "    <tr>\n",
              "      <th>...</th>\n",
              "      <td>...</td>\n",
              "      <td>...</td>\n",
              "      <td>...</td>\n",
              "      <td>...</td>\n",
              "      <td>...</td>\n",
              "      <td>...</td>\n",
              "      <td>...</td>\n",
              "      <td>...</td>\n",
              "      <td>...</td>\n",
              "      <td>...</td>\n",
              "    </tr>\n",
              "    <tr>\n",
              "      <th>56</th>\n",
              "      <td>4/26/2021 0:00</td>\n",
              "      <td>55416.96484</td>\n",
              "      <td>53319.18750</td>\n",
              "      <td>49448222757</td>\n",
              "      <td>0</td>\n",
              "      <td>0</td>\n",
              "      <td>NaN</td>\n",
              "      <td>0</td>\n",
              "      <td>NaN</td>\n",
              "      <td>55033.11719</td>\n",
              "    </tr>\n",
              "    <tr>\n",
              "      <th>57</th>\n",
              "      <td>4/27/2021 0:00</td>\n",
              "      <td>56227.20703</td>\n",
              "      <td>53887.91797</td>\n",
              "      <td>48000572955</td>\n",
              "      <td>0</td>\n",
              "      <td>0</td>\n",
              "      <td>NaN</td>\n",
              "      <td>1</td>\n",
              "      <td>https://market.bisnis.com/read/20210427/94/138...</td>\n",
              "      <td>54824.70313</td>\n",
              "    </tr>\n",
              "    <tr>\n",
              "      <th>58</th>\n",
              "      <td>4/28/2021 0:00</td>\n",
              "      <td>55115.84375</td>\n",
              "      <td>52418.02734</td>\n",
              "      <td>46088929780</td>\n",
              "      <td>0</td>\n",
              "      <td>0</td>\n",
              "      <td>NaN</td>\n",
              "      <td>0</td>\n",
              "      <td>NaN</td>\n",
              "      <td>53555.10938</td>\n",
              "    </tr>\n",
              "    <tr>\n",
              "      <th>59</th>\n",
              "      <td>4/29/2021 0:00</td>\n",
              "      <td>57900.71875</td>\n",
              "      <td>53129.60156</td>\n",
              "      <td>52395931985</td>\n",
              "      <td>0</td>\n",
              "      <td>0</td>\n",
              "      <td>NaN</td>\n",
              "      <td>1</td>\n",
              "      <td>https://badcryptopodcast.com/2021/04/29/bitcoi...</td>\n",
              "      <td>57750.17578</td>\n",
              "    </tr>\n",
              "    <tr>\n",
              "      <th>60</th>\n",
              "      <td>4/30/2021 0:00</td>\n",
              "      <td>58448.33984</td>\n",
              "      <td>57052.27344</td>\n",
              "      <td>42836427360</td>\n",
              "      <td>0</td>\n",
              "      <td>0</td>\n",
              "      <td>NaN</td>\n",
              "      <td>0</td>\n",
              "      <td>NaN</td>\n",
              "      <td>57828.05078</td>\n",
              "    </tr>\n",
              "  </tbody>\n",
              "</table>\n",
              "<p>61 rows × 10 columns</p>\n",
              "</div>"
            ],
            "text/plain": [
              "              Date  ...        Price\n",
              "0    3/1/2021 0:00  ...  49631.24219\n",
              "1    3/2/2021 0:00  ...  48378.98828\n",
              "2    3/3/2021 0:00  ...  50538.24219\n",
              "3    3/4/2021 0:00  ...  48561.16797\n",
              "4    3/5/2021 0:00  ...  48927.30469\n",
              "..             ...  ...          ...\n",
              "56  4/26/2021 0:00  ...  55033.11719\n",
              "57  4/27/2021 0:00  ...  54824.70313\n",
              "58  4/28/2021 0:00  ...  53555.10938\n",
              "59  4/29/2021 0:00  ...  57750.17578\n",
              "60  4/30/2021 0:00  ...  57828.05078\n",
              "\n",
              "[61 rows x 10 columns]"
            ]
          },
          "metadata": {},
          "execution_count": 2
        }
      ]
    },
    {
      "cell_type": "markdown",
      "metadata": {
        "id": "db0suFw-E7fg"
      },
      "source": [
        "Berikut kami melakukan set index column dari DataFrame menjadi tanggal/date dari pergerakan bitcoin dan juga drop variabel catatan (link website untuk good and bad news)"
      ]
    },
    {
      "cell_type": "code",
      "metadata": {
        "colab": {
          "base_uri": "https://localhost:8080/",
          "height": 450
        },
        "id": "75HNPVSmClpr",
        "outputId": "cbf5b769-4569-470f-ac8c-dbe98e85b8ad"
      },
      "source": [
        "dataset = dataset.set_index('Date')\n",
        "dataset = dataset.drop(\"Link Good News\", axis = 1)\n",
        "dataset = dataset.drop(\"Link Bad News\", axis = 1)\n",
        "\n",
        "dataset"
      ],
      "execution_count": 3,
      "outputs": [
        {
          "output_type": "execute_result",
          "data": {
            "text/html": [
              "<div>\n",
              "<style scoped>\n",
              "    .dataframe tbody tr th:only-of-type {\n",
              "        vertical-align: middle;\n",
              "    }\n",
              "\n",
              "    .dataframe tbody tr th {\n",
              "        vertical-align: top;\n",
              "    }\n",
              "\n",
              "    .dataframe thead th {\n",
              "        text-align: right;\n",
              "    }\n",
              "</style>\n",
              "<table border=\"1\" class=\"dataframe\">\n",
              "  <thead>\n",
              "    <tr style=\"text-align: right;\">\n",
              "      <th></th>\n",
              "      <th>High</th>\n",
              "      <th>Low</th>\n",
              "      <th>Volume</th>\n",
              "      <th>Weekend</th>\n",
              "      <th>Good News</th>\n",
              "      <th>Bad News</th>\n",
              "      <th>Price</th>\n",
              "    </tr>\n",
              "    <tr>\n",
              "      <th>Date</th>\n",
              "      <th></th>\n",
              "      <th></th>\n",
              "      <th></th>\n",
              "      <th></th>\n",
              "      <th></th>\n",
              "      <th></th>\n",
              "      <th></th>\n",
              "    </tr>\n",
              "  </thead>\n",
              "  <tbody>\n",
              "    <tr>\n",
              "      <th>3/1/2021 0:00</th>\n",
              "      <td>49784.01563</td>\n",
              "      <td>45115.09375</td>\n",
              "      <td>53891300112</td>\n",
              "      <td>0</td>\n",
              "      <td>0</td>\n",
              "      <td>0</td>\n",
              "      <td>49631.24219</td>\n",
              "    </tr>\n",
              "    <tr>\n",
              "      <th>3/2/2021 0:00</th>\n",
              "      <td>50127.51172</td>\n",
              "      <td>47228.84375</td>\n",
              "      <td>47530897720</td>\n",
              "      <td>0</td>\n",
              "      <td>0</td>\n",
              "      <td>0</td>\n",
              "      <td>48378.98828</td>\n",
              "    </tr>\n",
              "    <tr>\n",
              "      <th>3/3/2021 0:00</th>\n",
              "      <td>52535.13672</td>\n",
              "      <td>48274.32031</td>\n",
              "      <td>53220811975</td>\n",
              "      <td>0</td>\n",
              "      <td>0</td>\n",
              "      <td>0</td>\n",
              "      <td>50538.24219</td>\n",
              "    </tr>\n",
              "    <tr>\n",
              "      <th>3/4/2021 0:00</th>\n",
              "      <td>51735.08984</td>\n",
              "      <td>47656.92969</td>\n",
              "      <td>52343816680</td>\n",
              "      <td>0</td>\n",
              "      <td>0</td>\n",
              "      <td>0</td>\n",
              "      <td>48561.16797</td>\n",
              "    </tr>\n",
              "    <tr>\n",
              "      <th>3/5/2021 0:00</th>\n",
              "      <td>49396.42969</td>\n",
              "      <td>46542.51563</td>\n",
              "      <td>48625928883</td>\n",
              "      <td>0</td>\n",
              "      <td>0</td>\n",
              "      <td>0</td>\n",
              "      <td>48927.30469</td>\n",
              "    </tr>\n",
              "    <tr>\n",
              "      <th>...</th>\n",
              "      <td>...</td>\n",
              "      <td>...</td>\n",
              "      <td>...</td>\n",
              "      <td>...</td>\n",
              "      <td>...</td>\n",
              "      <td>...</td>\n",
              "      <td>...</td>\n",
              "    </tr>\n",
              "    <tr>\n",
              "      <th>4/26/2021 0:00</th>\n",
              "      <td>55416.96484</td>\n",
              "      <td>53319.18750</td>\n",
              "      <td>49448222757</td>\n",
              "      <td>0</td>\n",
              "      <td>0</td>\n",
              "      <td>0</td>\n",
              "      <td>55033.11719</td>\n",
              "    </tr>\n",
              "    <tr>\n",
              "      <th>4/27/2021 0:00</th>\n",
              "      <td>56227.20703</td>\n",
              "      <td>53887.91797</td>\n",
              "      <td>48000572955</td>\n",
              "      <td>0</td>\n",
              "      <td>0</td>\n",
              "      <td>1</td>\n",
              "      <td>54824.70313</td>\n",
              "    </tr>\n",
              "    <tr>\n",
              "      <th>4/28/2021 0:00</th>\n",
              "      <td>55115.84375</td>\n",
              "      <td>52418.02734</td>\n",
              "      <td>46088929780</td>\n",
              "      <td>0</td>\n",
              "      <td>0</td>\n",
              "      <td>0</td>\n",
              "      <td>53555.10938</td>\n",
              "    </tr>\n",
              "    <tr>\n",
              "      <th>4/29/2021 0:00</th>\n",
              "      <td>57900.71875</td>\n",
              "      <td>53129.60156</td>\n",
              "      <td>52395931985</td>\n",
              "      <td>0</td>\n",
              "      <td>0</td>\n",
              "      <td>1</td>\n",
              "      <td>57750.17578</td>\n",
              "    </tr>\n",
              "    <tr>\n",
              "      <th>4/30/2021 0:00</th>\n",
              "      <td>58448.33984</td>\n",
              "      <td>57052.27344</td>\n",
              "      <td>42836427360</td>\n",
              "      <td>0</td>\n",
              "      <td>0</td>\n",
              "      <td>0</td>\n",
              "      <td>57828.05078</td>\n",
              "    </tr>\n",
              "  </tbody>\n",
              "</table>\n",
              "<p>61 rows × 7 columns</p>\n",
              "</div>"
            ],
            "text/plain": [
              "                       High          Low  ...  Bad News        Price\n",
              "Date                                      ...                       \n",
              "3/1/2021 0:00   49784.01563  45115.09375  ...         0  49631.24219\n",
              "3/2/2021 0:00   50127.51172  47228.84375  ...         0  48378.98828\n",
              "3/3/2021 0:00   52535.13672  48274.32031  ...         0  50538.24219\n",
              "3/4/2021 0:00   51735.08984  47656.92969  ...         0  48561.16797\n",
              "3/5/2021 0:00   49396.42969  46542.51563  ...         0  48927.30469\n",
              "...                     ...          ...  ...       ...          ...\n",
              "4/26/2021 0:00  55416.96484  53319.18750  ...         0  55033.11719\n",
              "4/27/2021 0:00  56227.20703  53887.91797  ...         1  54824.70313\n",
              "4/28/2021 0:00  55115.84375  52418.02734  ...         0  53555.10938\n",
              "4/29/2021 0:00  57900.71875  53129.60156  ...         1  57750.17578\n",
              "4/30/2021 0:00  58448.33984  57052.27344  ...         0  57828.05078\n",
              "\n",
              "[61 rows x 7 columns]"
            ]
          },
          "metadata": {},
          "execution_count": 3
        }
      ]
    },
    {
      "cell_type": "markdown",
      "metadata": {
        "id": "37c7eODLTkuH"
      },
      "source": [
        "Memasukan nilai X (independent variable) dan nilai Y (dependent variable)"
      ]
    },
    {
      "cell_type": "code",
      "metadata": {
        "colab": {
          "base_uri": "https://localhost:8080/"
        },
        "id": "yMluMGYcGjjj",
        "outputId": "4bd2c480-c547-4356-d2ba-69d4d5881862"
      },
      "source": [
        "y = dataset[\"Price\"]\n",
        "x = dataset.drop(\"Price\", axis = 1)\n",
        "\n",
        "print(x)\n",
        "print(y)"
      ],
      "execution_count": 4,
      "outputs": [
        {
          "output_type": "stream",
          "name": "stdout",
          "text": [
            "                       High          Low  ...  Good News  Bad News\n",
            "Date                                      ...                     \n",
            "3/1/2021 0:00   49784.01563  45115.09375  ...          0         0\n",
            "3/2/2021 0:00   50127.51172  47228.84375  ...          0         0\n",
            "3/3/2021 0:00   52535.13672  48274.32031  ...          0         0\n",
            "3/4/2021 0:00   51735.08984  47656.92969  ...          0         0\n",
            "3/5/2021 0:00   49396.42969  46542.51563  ...          0         0\n",
            "...                     ...          ...  ...        ...       ...\n",
            "4/26/2021 0:00  55416.96484  53319.18750  ...          0         0\n",
            "4/27/2021 0:00  56227.20703  53887.91797  ...          0         1\n",
            "4/28/2021 0:00  55115.84375  52418.02734  ...          0         0\n",
            "4/29/2021 0:00  57900.71875  53129.60156  ...          0         1\n",
            "4/30/2021 0:00  58448.33984  57052.27344  ...          0         0\n",
            "\n",
            "[61 rows x 6 columns]\n",
            "Date\n",
            "3/1/2021 0:00     49631.24219\n",
            "3/2/2021 0:00     48378.98828\n",
            "3/3/2021 0:00     50538.24219\n",
            "3/4/2021 0:00     48561.16797\n",
            "3/5/2021 0:00     48927.30469\n",
            "                     ...     \n",
            "4/26/2021 0:00    55033.11719\n",
            "4/27/2021 0:00    54824.70313\n",
            "4/28/2021 0:00    53555.10938\n",
            "4/29/2021 0:00    57750.17578\n",
            "4/30/2021 0:00    57828.05078\n",
            "Name: Price, Length: 61, dtype: float64\n"
          ]
        }
      ]
    },
    {
      "cell_type": "markdown",
      "metadata": {
        "id": "ugUQ2aSsFfBV"
      },
      "source": [
        "Lakuin scaling menggunakan MinMaxScaler, yaitu suatu cara untuk membuat numerical data pada dataset memiliki rentang nilai (scale) yang sama."
      ]
    },
    {
      "cell_type": "code",
      "metadata": {
        "id": "gMLZhpYNGD0C"
      },
      "source": [
        "scaler = MinMaxScaler()\n",
        "x = scaler.fit_transform(x)"
      ],
      "execution_count": 5,
      "outputs": []
    },
    {
      "cell_type": "markdown",
      "metadata": {
        "id": "FziYL_-wFv61"
      },
      "source": [
        "Split dataset training dan testing dengan training (80%) dan testing (20%)"
      ]
    },
    {
      "cell_type": "code",
      "metadata": {
        "id": "Hpca-CNwHzgL"
      },
      "source": [
        "x_train, x_test, y_train, y_test = train_test_split(x, y, test_size = 0.2)"
      ],
      "execution_count": 6,
      "outputs": []
    },
    {
      "cell_type": "markdown",
      "metadata": {
        "id": "_bxidyVkF2FR"
      },
      "source": [
        "Disini lakukan training model menggunakan x_train dan y_train, lalu cek coefficient dan MSE, lalu cek score dengan menggunakan data testing, lalu berhasil mendapatkan score sebesar 96.08%"
      ]
    },
    {
      "cell_type": "code",
      "metadata": {
        "colab": {
          "base_uri": "https://localhost:8080/"
        },
        "id": "n03AAVZMHk8x",
        "outputId": "fe583423-59d4-4202-b23f-8f7a107f68d3"
      },
      "source": [
        "model = LinearRegression()\n",
        "model = model.fit(x_train, y_train)\n",
        "prediction = model.predict(x_test)\n",
        "print(f\"Coef: {model.coef_}\")\n",
        "print(f\"MSE: {mean_squared_error(y_test, prediction)}\")\n",
        "print(\"==================================================================\")\n",
        "print(f\"Score: {model.score(x_test, y_test)*100:.2f}%\")"
      ],
      "execution_count": 7,
      "outputs": [
        {
          "output_type": "stream",
          "name": "stdout",
          "text": [
            "Coef: [10721.84836692  4920.9520934  -1642.23668641    68.1695653\n",
            "   307.8458196    877.37290731]\n",
            "MSE: 417468.9971194613\n",
            "==================================================================\n",
            "Score: 97.65%\n"
          ]
        }
      ]
    }
  ]
}